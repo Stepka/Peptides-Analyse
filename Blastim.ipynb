{
  "nbformat": 4,
  "nbformat_minor": 0,
  "metadata": {
    "colab": {
      "name": "Blastim.ipynb",
      "version": "0.3.2",
      "provenance": [],
      "include_colab_link": true
    },
    "kernelspec": {
      "name": "python3",
      "display_name": "Python 3"
    }
  },
  "cells": [
    {
      "cell_type": "markdown",
      "metadata": {
        "id": "view-in-github",
        "colab_type": "text"
      },
      "source": [
        "<a href=\"https://colab.research.google.com/github/Stepka/Peptides-Analyse/blob/master/Blastim.ipynb\" target=\"_parent\"><img src=\"https://colab.research.google.com/assets/colab-badge.svg\" alt=\"Open In Colab\"/></a>"
      ]
    },
    {
      "metadata": {
        "id": "xHBjzq0Oke__",
        "colab_type": "code",
        "colab": {
          "base_uri": "https://localhost:8080/",
          "height": 34
        },
        "outputId": "45931f41-261f-48e1-f413-2a4243bc3666"
      },
      "cell_type": "code",
      "source": [
        "from google.colab import drive\n",
        "drive.mount('/drive')\n",
        "\n",
        "default_path = \"/drive/My Drive/Colab Notebooks/Blastim/\""
      ],
      "execution_count": 1,
      "outputs": [
        {
          "output_type": "stream",
          "text": [
            "Drive already mounted at /drive; to attempt to forcibly remount, call drive.mount(\"/drive\", force_remount=True).\n"
          ],
          "name": "stdout"
        }
      ]
    },
    {
      "metadata": {
        "id": "jgjs8v0tkCW3",
        "colab_type": "code",
        "colab": {}
      },
      "cell_type": "code",
      "source": [
        "import pandas as pd\n",
        "import numpy as np\n",
        "from collections import Counter\n",
        "\n",
        "peptides_df = pd.read_excel(default_path + 'data_set_test_1.xlsx', index_col=0)"
      ],
      "execution_count": 0,
      "outputs": []
    },
    {
      "metadata": {
        "id": "qSWA1Lqgz_q5",
        "colab_type": "code",
        "colab": {
          "base_uri": "https://localhost:8080/",
          "height": 255
        },
        "outputId": "8c35f6f1-f318-4393-f9e1-75946a3589d9"
      },
      "cell_type": "code",
      "source": [
        "peptides_df.head()"
      ],
      "execution_count": 3,
      "outputs": [
        {
          "output_type": "execute_result",
          "data": {
            "text/html": [
              "<div>\n",
              "<style scoped>\n",
              "    .dataframe tbody tr th:only-of-type {\n",
              "        vertical-align: middle;\n",
              "    }\n",
              "\n",
              "    .dataframe tbody tr th {\n",
              "        vertical-align: top;\n",
              "    }\n",
              "\n",
              "    .dataframe thead th {\n",
              "        text-align: right;\n",
              "    }\n",
              "</style>\n",
              "<table border=\"1\" class=\"dataframe\">\n",
              "  <thead>\n",
              "    <tr style=\"text-align: right;\">\n",
              "      <th></th>\n",
              "      <th>Label</th>\n",
              "      <th>Fragment</th>\n",
              "      <th>S2</th>\n",
              "      <th>S3</th>\n",
              "      <th>S4</th>\n",
              "      <th>S5</th>\n",
              "      <th>S6</th>\n",
              "      <th>S7</th>\n",
              "      <th>S8</th>\n",
              "      <th>S9</th>\n",
              "      <th>S10</th>\n",
              "      <th>S11</th>\n",
              "      <th>S12</th>\n",
              "      <th>S13</th>\n",
              "      <th>S14</th>\n",
              "      <th>S15</th>\n",
              "      <th>S16</th>\n",
              "      <th>S17</th>\n",
              "    </tr>\n",
              "    <tr>\n",
              "      <th>Peptide</th>\n",
              "      <th></th>\n",
              "      <th></th>\n",
              "      <th></th>\n",
              "      <th></th>\n",
              "      <th></th>\n",
              "      <th></th>\n",
              "      <th></th>\n",
              "      <th></th>\n",
              "      <th></th>\n",
              "      <th></th>\n",
              "      <th></th>\n",
              "      <th></th>\n",
              "      <th></th>\n",
              "      <th></th>\n",
              "      <th></th>\n",
              "      <th></th>\n",
              "      <th></th>\n",
              "      <th></th>\n",
              "    </tr>\n",
              "  </thead>\n",
              "  <tbody>\n",
              "    <tr>\n",
              "      <th>P1</th>\n",
              "      <td>Light</td>\n",
              "      <td>y8</td>\n",
              "      <td>294.998383</td>\n",
              "      <td>448.058533</td>\n",
              "      <td>422.948151</td>\n",
              "      <td>631.757263</td>\n",
              "      <td>587.825317</td>\n",
              "      <td>321.863556</td>\n",
              "      <td>400.590027</td>\n",
              "      <td>343.929901</td>\n",
              "      <td>485.230499</td>\n",
              "      <td>368.712128</td>\n",
              "      <td>822.797241</td>\n",
              "      <td>417.526123</td>\n",
              "      <td>254.342270</td>\n",
              "      <td>254.642609</td>\n",
              "      <td>357.015076</td>\n",
              "      <td>218.479324</td>\n",
              "    </tr>\n",
              "    <tr>\n",
              "      <th>P1</th>\n",
              "      <td>Light</td>\n",
              "      <td>y7</td>\n",
              "      <td>1419.231689</td>\n",
              "      <td>1171.287231</td>\n",
              "      <td>1042.433350</td>\n",
              "      <td>998.465210</td>\n",
              "      <td>1079.857788</td>\n",
              "      <td>945.395386</td>\n",
              "      <td>983.617004</td>\n",
              "      <td>990.707825</td>\n",
              "      <td>881.312622</td>\n",
              "      <td>1140.147583</td>\n",
              "      <td>1126.719849</td>\n",
              "      <td>1261.232422</td>\n",
              "      <td>1243.158447</td>\n",
              "      <td>855.177307</td>\n",
              "      <td>1029.394897</td>\n",
              "      <td>902.800537</td>\n",
              "    </tr>\n",
              "    <tr>\n",
              "      <th>P1</th>\n",
              "      <td>Light</td>\n",
              "      <td>y5</td>\n",
              "      <td>1035.721436</td>\n",
              "      <td>915.735291</td>\n",
              "      <td>535.818237</td>\n",
              "      <td>797.905823</td>\n",
              "      <td>719.815430</td>\n",
              "      <td>1027.282593</td>\n",
              "      <td>701.084351</td>\n",
              "      <td>808.346069</td>\n",
              "      <td>635.738770</td>\n",
              "      <td>761.494507</td>\n",
              "      <td>698.001404</td>\n",
              "      <td>929.305786</td>\n",
              "      <td>554.095642</td>\n",
              "      <td>952.229919</td>\n",
              "      <td>512.895386</td>\n",
              "      <td>1250.173340</td>\n",
              "    </tr>\n",
              "    <tr>\n",
              "      <th>P1</th>\n",
              "      <td>Heavy</td>\n",
              "      <td>y8</td>\n",
              "      <td>1741.223877</td>\n",
              "      <td>1821.417969</td>\n",
              "      <td>1945.423340</td>\n",
              "      <td>1902.768799</td>\n",
              "      <td>1681.411987</td>\n",
              "      <td>1790.363525</td>\n",
              "      <td>1503.520020</td>\n",
              "      <td>1830.634033</td>\n",
              "      <td>2016.296021</td>\n",
              "      <td>2087.350830</td>\n",
              "      <td>2091.277344</td>\n",
              "      <td>2017.161255</td>\n",
              "      <td>1623.241211</td>\n",
              "      <td>1781.993652</td>\n",
              "      <td>2057.386719</td>\n",
              "      <td>1644.980835</td>\n",
              "    </tr>\n",
              "    <tr>\n",
              "      <th>P1</th>\n",
              "      <td>Heavy</td>\n",
              "      <td>y7</td>\n",
              "      <td>5349.316406</td>\n",
              "      <td>5757.182129</td>\n",
              "      <td>5494.454590</td>\n",
              "      <td>6000.090332</td>\n",
              "      <td>5274.203125</td>\n",
              "      <td>5138.413086</td>\n",
              "      <td>5296.849121</td>\n",
              "      <td>5082.851074</td>\n",
              "      <td>5097.641602</td>\n",
              "      <td>6026.864746</td>\n",
              "      <td>6089.832031</td>\n",
              "      <td>4401.206543</td>\n",
              "      <td>6459.663086</td>\n",
              "      <td>4476.049805</td>\n",
              "      <td>4950.586426</td>\n",
              "      <td>4978.967773</td>\n",
              "    </tr>\n",
              "  </tbody>\n",
              "</table>\n",
              "</div>"
            ],
            "text/plain": [
              "         Label Fragment           S2           S3           S4           S5  \\\n",
              "Peptide                                                                       \n",
              "P1       Light       y8   294.998383   448.058533   422.948151   631.757263   \n",
              "P1       Light       y7  1419.231689  1171.287231  1042.433350   998.465210   \n",
              "P1       Light       y5  1035.721436   915.735291   535.818237   797.905823   \n",
              "P1       Heavy       y8  1741.223877  1821.417969  1945.423340  1902.768799   \n",
              "P1       Heavy       y7  5349.316406  5757.182129  5494.454590  6000.090332   \n",
              "\n",
              "                  S6           S7           S8           S9          S10  \\\n",
              "Peptide                                                                    \n",
              "P1        587.825317   321.863556   400.590027   343.929901   485.230499   \n",
              "P1       1079.857788   945.395386   983.617004   990.707825   881.312622   \n",
              "P1        719.815430  1027.282593   701.084351   808.346069   635.738770   \n",
              "P1       1681.411987  1790.363525  1503.520020  1830.634033  2016.296021   \n",
              "P1       5274.203125  5138.413086  5296.849121  5082.851074  5097.641602   \n",
              "\n",
              "                 S11          S12          S13          S14          S15  \\\n",
              "Peptide                                                                    \n",
              "P1        368.712128   822.797241   417.526123   254.342270   254.642609   \n",
              "P1       1140.147583  1126.719849  1261.232422  1243.158447   855.177307   \n",
              "P1        761.494507   698.001404   929.305786   554.095642   952.229919   \n",
              "P1       2087.350830  2091.277344  2017.161255  1623.241211  1781.993652   \n",
              "P1       6026.864746  6089.832031  4401.206543  6459.663086  4476.049805   \n",
              "\n",
              "                 S16          S17  \n",
              "Peptide                            \n",
              "P1        357.015076   218.479324  \n",
              "P1       1029.394897   902.800537  \n",
              "P1        512.895386  1250.173340  \n",
              "P1       2057.386719  1644.980835  \n",
              "P1       4950.586426  4978.967773  "
            ]
          },
          "metadata": {
            "tags": []
          },
          "execution_count": 3
        }
      ]
    },
    {
      "metadata": {
        "id": "YM0eHe4xwNSf",
        "colab_type": "code",
        "colab": {}
      },
      "cell_type": "code",
      "source": [
        "# Outlier detection \n",
        "\n",
        "def detect_outliers(df, features):\n",
        "    \"\"\"\n",
        "    Takes a dataframe df of features and returns a list of the indices\n",
        "    corresponding to the observations containing outliers according\n",
        "    to the Tukey method.\n",
        "    \"\"\"\n",
        "    outlier_indices = []\n",
        "    \n",
        "    # iterate over rows\n",
        "    for index, row in df.iterrows():\n",
        "      values = row[features].values\n",
        "#     for col in features:\n",
        "      # 1st quartile (25%)\n",
        "      Q1 = np.percentile(values, 25)\n",
        "      # 3rd quartile (75%)\n",
        "      Q3 = np.percentile(values, 75)\n",
        "      # Interquartile range (IQR)\n",
        "      IQR = Q3 - Q1\n",
        "        \n",
        "      # outlier step\n",
        "      outlier_step = 0.5 * IQR\n",
        "      \n",
        "      outlier_list = np.where((values < Q1 - outlier_step) | (values > Q3 + outlier_step))\n",
        "      \n",
        "      outlier_indices.append(outlier_list)\n",
        "      \n",
        "    return outlier_indices "
      ],
      "execution_count": 0,
      "outputs": []
    },
    {
      "metadata": {
        "id": "6XoSxbg0wZZJ",
        "colab_type": "code",
        "colab": {}
      },
      "cell_type": "code",
      "source": [
        "outliers = detect_outliers(peptides_df, [\"S2\", \"S3\", \"S4\", \"S5\", \"S6\", \"S7\", \"S8\", \"S9\", \"S10\", \"S11\", \"S12\", \"S13\", \"S14\", \"S15\", \"S16\", \"S17\"])"
      ],
      "execution_count": 0,
      "outputs": []
    },
    {
      "metadata": {
        "id": "-yY55DMi4-oO",
        "colab_type": "code",
        "colab": {
          "base_uri": "https://localhost:8080/",
          "height": 34
        },
        "outputId": "a25584da-958e-4b64-b4e1-439fe134b892"
      },
      "cell_type": "code",
      "source": [
        "outliers_mask = np.ones((len(outliers), 16))\n",
        "\n",
        "for i in range(len(outliers)):\n",
        "  for j in outliers[i][0]:\n",
        "    outliers_mask.itemset((i, int(j)), 0)\n",
        "\n",
        "outliers_mask[0]"
      ],
      "execution_count": 6,
      "outputs": [
        {
          "output_type": "execute_result",
          "data": {
            "text/plain": [
              "array([1., 1., 1., 0., 0., 1., 1., 1., 1., 1., 0., 1., 1., 1., 1., 0.])"
            ]
          },
          "metadata": {
            "tags": []
          },
          "execution_count": 6
        }
      ]
    },
    {
      "metadata": {
        "id": "_7_TwyNv4pDB",
        "colab_type": "code",
        "colab": {}
      },
      "cell_type": "code",
      "source": [
        "outliers_df = peptides_df.copy()\n",
        "\n",
        "column_dict = {\"S2\": 0, \"S3\": 1, \"S4\": 2, \"S5\": 3, \"S6\": 4, \"S7\": 5, \"S8\": 6, \"S9\": 7, \"S10\": 8, \"S11\": 9, \"S12\": 10, \"S13\": 11, \"S14\": 12, \"S15\": 13, \"S16\": 14, \"S17\": 15}\n",
        "\n",
        "i = 0\n",
        "for index, row in outliers_df.iterrows():\n",
        "  outliers_df.iloc[[i], 2:] = row[2:].values * outliers_mask[i]\n",
        "  i += 1\n",
        "  \n",
        "outliers_marked_df = outliers_df.applymap(lambda x: 'DISTORTED' if x == 0 else x)\n",
        "\n",
        "outliers_marked_df.head(10)\n",
        "\n",
        "outliers_marked_df.to_excel(\"anomalies.xlsx\")"
      ],
      "execution_count": 0,
      "outputs": []
    },
    {
      "metadata": {
        "id": "meNX-zmNHOQ8",
        "colab_type": "code",
        "colab": {}
      },
      "cell_type": "code",
      "source": [
        "# replace distorted values with means of samples\n",
        "\n",
        "outliers_corrected_df = outliers_df.copy()\n",
        "outliers_corrected_df = outliers_df.applymap(lambda x: None if x == 0 else x)\n",
        "\n",
        "outliers_corrected_df['mean'] = outliers_corrected_df.mean(axis=1)\n",
        "\n",
        "for column in column_dict.keys():\n",
        "  outliers_corrected_df[column].fillna(outliers_corrected_df['mean'], inplace=True)\n",
        "\n",
        "outliers_marked_df.to_excel(\"corrected.xlsx\")"
      ],
      "execution_count": 0,
      "outputs": []
    }
  ]
}